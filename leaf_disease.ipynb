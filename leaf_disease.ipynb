{
  "nbformat": 4,
  "nbformat_minor": 0,
  "metadata": {
    "colab": {
      "provenance": [],
      "gpuType": "T4"
    },
    "kernelspec": {
      "name": "python3",
      "display_name": "Python 3"
    },
    "language_info": {
      "name": "python"
    },
    "accelerator": "GPU"
  },
  "cells": [
    {
      "cell_type": "code",
      "source": [
        "from google.colab import drive\n",
        "drive.mount('/content/drive')"
      ],
      "metadata": {
        "colab": {
          "base_uri": "https://localhost:8080/"
        },
        "id": "RyQCZxe-P52C",
        "outputId": "db44f2a0-45cb-4593-f0db-dd345724aa18"
      },
      "execution_count": null,
      "outputs": [
        {
          "output_type": "stream",
          "name": "stdout",
          "text": [
            "Mounted at /content/drive\n"
          ]
        }
      ]
    },
    {
      "cell_type": "markdown",
      "source": [
        "# The Model"
      ],
      "metadata": {
        "id": "qRYOlmmzo0t1"
      }
    },
    {
      "cell_type": "code",
      "source": [
        "import tensorflow as tf\n",
        "from tensorflow.keras.preprocessing.image import ImageDataGenerator\n",
        "\n",
        "train_dir = \"/content/drive/MyDrive/kaggle/Potato/Train\"\n",
        "val_dir = \"/content/drive/MyDrive/kaggle/Potato/Valid\"\n",
        "\n",
        "training_images = ImageDataGenerator(rescale=1/255.)\n",
        "valid_images = ImageDataGenerator(rescale=1/255.)\n",
        "\n",
        "train_data = training_images.flow_from_directory(train_dir,\n",
        "                                                 target_size=(256,256),\n",
        "                                                 color_mode='rgb',\n",
        "                                                 class_mode='categorical',\n",
        "                                                 batch_size=32,\n",
        "                                                 shuffle=True,\n",
        "                                                 seed=42)\n",
        "valid_data = valid_images.flow_from_directory(val_dir,\n",
        "                                              target_size=(256,256),\n",
        "                                              class_mode='categorical',\n",
        "                                              seed=42)"
      ],
      "metadata": {
        "colab": {
          "base_uri": "https://localhost:8080/"
        },
        "id": "BryE5H_LQN7_",
        "outputId": "ad07220c-d918-4d36-89b7-42681c422048"
      },
      "execution_count": null,
      "outputs": [
        {
          "output_type": "stream",
          "name": "stdout",
          "text": [
            "Found 900 images belonging to 3 classes.\n",
            "Found 300 images belonging to 3 classes.\n"
          ]
        }
      ]
    },
    {
      "cell_type": "code",
      "source": [
        "from tensorflow.keras.layers import Dense, Conv2D, MaxPooling2D, Flatten\n",
        "from tensorflow.keras.optimizers import Adam\n",
        "\n",
        "tf.random.set_seed(42)\n",
        "model = tf.keras.Sequential([\n",
        "    Conv2D(64, 3, activation='relu', input_shape=(256, 256, 3)),\n",
        "    Conv2D(64, 3, activation='relu'),\n",
        "    MaxPooling2D(),\n",
        "    Conv2D(64, 3, activation='relu'),\n",
        "    Conv2D(32, 3, activation='relu'),\n",
        "    MaxPooling2D(),\n",
        "    Conv2D(16, 3, activation='relu'),\n",
        "    Conv2D(16, 3, activation='relu'),\n",
        "    Flatten(),\n",
        "    Dense(16, activation='relu'),\n",
        "    Dense(3, activation='softmax')\n",
        "], name=\"model_leaf_dis\")\n",
        "\n",
        "model.compile(loss='categorical_crossentropy',\n",
        "              optimizer=Adam(),\n",
        "              metrics=['accuracy'])\n",
        "\n",
        "history = model.fit(train_data,\n",
        "                    epochs=10,\n",
        "                    steps_per_epoch=len(train_data),\n",
        "                    validation_data=valid_data,\n",
        "                    validation_steps=len(valid_data))"
      ],
      "metadata": {
        "colab": {
          "base_uri": "https://localhost:8080/"
        },
        "id": "V3YBtypyULZX",
        "outputId": "90151f6d-73d8-4cc7-cafb-419765566d63"
      },
      "execution_count": null,
      "outputs": [
        {
          "output_type": "stream",
          "name": "stdout",
          "text": [
            "Epoch 1/10\n",
            "29/29 [==============================] - 316s 10s/step - loss: 1.1034 - accuracy: 0.4300 - val_loss: 0.9639 - val_accuracy: 0.6233\n",
            "Epoch 2/10\n",
            "29/29 [==============================] - 7s 238ms/step - loss: 0.7080 - accuracy: 0.6722 - val_loss: 0.5060 - val_accuracy: 0.7967\n",
            "Epoch 3/10\n",
            "29/29 [==============================] - 7s 234ms/step - loss: 0.4683 - accuracy: 0.8078 - val_loss: 0.6278 - val_accuracy: 0.6967\n",
            "Epoch 4/10\n",
            "29/29 [==============================] - 7s 232ms/step - loss: 0.3710 - accuracy: 0.8456 - val_loss: 0.3370 - val_accuracy: 0.8500\n",
            "Epoch 5/10\n",
            "29/29 [==============================] - 7s 228ms/step - loss: 0.3305 - accuracy: 0.8611 - val_loss: 0.2981 - val_accuracy: 0.8567\n",
            "Epoch 6/10\n",
            "29/29 [==============================] - 7s 235ms/step - loss: 0.2619 - accuracy: 0.8956 - val_loss: 0.2016 - val_accuracy: 0.9100\n",
            "Epoch 7/10\n",
            "29/29 [==============================] - 7s 226ms/step - loss: 0.2452 - accuracy: 0.9022 - val_loss: 0.1568 - val_accuracy: 0.9600\n",
            "Epoch 8/10\n",
            "29/29 [==============================] - 7s 236ms/step - loss: 0.1675 - accuracy: 0.9333 - val_loss: 0.2528 - val_accuracy: 0.8700\n",
            "Epoch 9/10\n",
            "29/29 [==============================] - 7s 236ms/step - loss: 0.1472 - accuracy: 0.9544 - val_loss: 0.2127 - val_accuracy: 0.9433\n",
            "Epoch 10/10\n",
            "29/29 [==============================] - 7s 227ms/step - loss: 0.0961 - accuracy: 0.9667 - val_loss: 0.1337 - val_accuracy: 0.9533\n"
          ]
        }
      ]
    },
    {
      "cell_type": "code",
      "source": [
        "test_dir = \"/content/drive/MyDrive/kaggle/Potato/Test\"\n",
        "test_images = ImageDataGenerator(rescale=1/255.)\n",
        "\n",
        "test_data = test_images.flow_from_directory(test_dir,\n",
        "                                            target_size=(256,256),\n",
        "                                            seed=42,\n",
        "                                            class_mode=\"categorical\")"
      ],
      "metadata": {
        "colab": {
          "base_uri": "https://localhost:8080/"
        },
        "id": "t0XTpJ2jWDIy",
        "outputId": "a0f6dc7b-0baf-4061-839b-15f5ab2577ae"
      },
      "execution_count": null,
      "outputs": [
        {
          "output_type": "stream",
          "name": "stdout",
          "text": [
            "Found 300 images belonging to 3 classes.\n"
          ]
        }
      ]
    },
    {
      "cell_type": "code",
      "source": [
        "model.evaluate(test_data)"
      ],
      "metadata": {
        "colab": {
          "base_uri": "https://localhost:8080/"
        },
        "id": "OHm3aa5Jepw6",
        "outputId": "c044acc8-56d2-43c3-8ea5-9faca7275c5b"
      },
      "execution_count": null,
      "outputs": [
        {
          "output_type": "stream",
          "name": "stdout",
          "text": [
            "10/10 [==============================] - 60s 7s/step - loss: 0.1712 - accuracy: 0.9467\n"
          ]
        },
        {
          "output_type": "execute_result",
          "data": {
            "text/plain": [
              "[0.17124907672405243, 0.9466666579246521]"
            ]
          },
          "metadata": {},
          "execution_count": 5
        }
      ]
    },
    {
      "cell_type": "markdown",
      "source": [
        "## Predict"
      ],
      "metadata": {
        "id": "Xof-3kucoxAk"
      }
    },
    {
      "cell_type": "code",
      "source": [
        "import numpy as np"
      ],
      "metadata": {
        "id": "ZFPfGOl_bOBl"
      },
      "execution_count": null,
      "outputs": []
    },
    {
      "cell_type": "code",
      "source": [
        "pred = model.predict(test_data)\n",
        "pred"
      ],
      "metadata": {
        "id": "MZ9joWdRgAKX"
      },
      "execution_count": null,
      "outputs": []
    },
    {
      "cell_type": "code",
      "source": [
        "pred = np.argmax(pred, axis=1)\n",
        "pred"
      ],
      "metadata": {
        "id": "43Y3iRlpXZ8d"
      },
      "execution_count": null,
      "outputs": []
    },
    {
      "cell_type": "code",
      "source": [
        "class_counts = np.bincount(pred)"
      ],
      "metadata": {
        "id": "siyQlSj1TKYe"
      },
      "execution_count": null,
      "outputs": []
    },
    {
      "cell_type": "code",
      "source": [
        "class_counts"
      ],
      "metadata": {
        "colab": {
          "base_uri": "https://localhost:8080/"
        },
        "id": "QjOmnjRCXMB8",
        "outputId": "3047d211-adf2-4fae-8a5c-5358d89b6059"
      },
      "execution_count": null,
      "outputs": [
        {
          "output_type": "execute_result",
          "data": {
            "text/plain": [
              "array([104,  88, 108])"
            ]
          },
          "metadata": {},
          "execution_count": 39
        }
      ]
    },
    {
      "cell_type": "code",
      "source": [
        "import os\n",
        "\n",
        "# Replace 'dataset_directory' with the actual path to your dataset directory\n",
        "dataset_directory = '/content/drive/MyDrive/kaggle/Potato/Train'\n",
        "\n",
        "# Get a list of subdirectories (class names) in the dataset directory\n",
        "class_names = np.array(os.listdir(dataset_directory))\n",
        "\n",
        "print(\"Class names:\", class_names)"
      ],
      "metadata": {
        "colab": {
          "base_uri": "https://localhost:8080/"
        },
        "id": "J0WerLmqu1ai",
        "outputId": "d01177f2-0c23-4a6a-b5f7-9a4de4d364f1"
      },
      "execution_count": null,
      "outputs": [
        {
          "output_type": "stream",
          "name": "stdout",
          "text": [
            "Class names: ['Potato___Late_blight' 'Potato___Early_blight' 'Potato___healthy']\n"
          ]
        }
      ]
    },
    {
      "cell_type": "markdown",
      "source": [
        "## Save the Model"
      ],
      "metadata": {
        "id": "lANufIUYjRUc"
      }
    },
    {
      "cell_type": "code",
      "source": [
        "model.save(\"leaf_model.h5\")"
      ],
      "metadata": {
        "id": "GDauGqxSpW8P"
      },
      "execution_count": null,
      "outputs": []
    }
  ]
}